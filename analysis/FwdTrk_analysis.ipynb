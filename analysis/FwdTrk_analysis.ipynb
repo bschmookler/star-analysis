{
 "cells": [
  {
   "cell_type": "markdown",
   "id": "6cabdad8",
   "metadata": {},
   "source": [
    "# Single negative muon simulation track quality"
   ]
  },
  {
   "cell_type": "code",
   "execution_count": 2,
   "id": "2f8052e4",
   "metadata": {},
   "outputs": [
    {
     "name": "stdout",
     "output_type": "stream",
     "text": [
      "<TTree 'data' (33 branches) at 0x7fc7807a5fd0>\n"
     ]
    },
    {
     "data": {
      "text/plain": [
       "['Cal_nhits',\n",
       " 'Cal_detid',\n",
       " 'Cal_hitid',\n",
       " 'Cal_adcsum',\n",
       " 'Cal_hit_energy',\n",
       " 'Cal_hit_posx',\n",
       " 'Cal_hit_posy',\n",
       " 'Cal_hit_posz',\n",
       " 'Trk_ntrks',\n",
       " 'Trk_px',\n",
       " 'Trk_py',\n",
       " 'Trk_pz',\n",
       " 'Trk_charge',\n",
       " 'Trk_chi2',\n",
       " 'Trk_ndf',\n",
       " 'Trk_proj_ecal_x',\n",
       " 'Trk_proj_ecal_y',\n",
       " 'Trk_proj_ecal_z',\n",
       " 'Trk_proj_hcal_x',\n",
       " 'Trk_proj_hcal_y',\n",
       " 'Trk_proj_hcal_z',\n",
       " 'mcpart_num',\n",
       " 'mcpart_index',\n",
       " 'mcpart_geid',\n",
       " 'mcpart_idVtx',\n",
       " 'mcpart_px',\n",
       " 'mcpart_py',\n",
       " 'mcpart_pz',\n",
       " 'mcpart_E',\n",
       " 'mcpart_charge',\n",
       " 'mcpart_Vtx_x',\n",
       " 'mcpart_Vtx_y',\n",
       " 'mcpart_Vtx_z']"
      ]
     },
     "execution_count": 2,
     "metadata": {},
     "output_type": "execute_result"
    }
   ],
   "source": [
    "import uproot\n",
    "import awkward as ak\n",
    "import numpy as np\n",
    "\n",
    "import matplotlib as mpl\n",
    "import matplotlib.pyplot as plt\n",
    "\n",
    "from matplotlib.backends.backend_pdf import PdfPages\n",
    "import matplotlib.patches as patches\n",
    "\n",
    "import vector\n",
    "vector.register_awkward() #Allows Awkward array records to be interpreted as vectors\n",
    "\n",
    "#load ROOT file\n",
    "events = uproot.open('input/SimpleTree_mudst.root:data')\n",
    "print(events)\n",
    "\n",
    "#To check branches\n",
    "events.keys()"
   ]
  },
  {
   "cell_type": "markdown",
   "id": "ade75f7a",
   "metadata": {},
   "source": [
    "### Generated particle information"
   ]
  },
  {
   "cell_type": "code",
   "execution_count": 20,
   "id": "43c86e50",
   "metadata": {},
   "outputs": [
    {
     "name": "stdout",
     "output_type": "stream",
     "text": [
      "\n",
      "1000 * {\"mcpart_num\": int32, \"mcpart_index\": var * int32, \"mcpart_geid\": var * int32, \"mcpart_idVtx\": var * int32, \"mcpart_px\": var * float32, \"mcpart_py\": var * float32, \"mcpart_pz\": var * float32, \"mcpart_E\": var * float32, \"mcpart_charge\": var * int32, \"mcpart_Vtx_x\": var * float32, \"mcpart_Vtx_y\": var * float32, \"mcpart_Vtx_z\": var * float32}\n",
      "\n",
      "[[{x: -0.547, y: -2.9, z: 29.9}], [{x: -1.68, ... [{x: -1.43, y: -2.59, z: 29.9}]]\n",
      "[[2.95], [2.97], [2.97], [2.96], [2.95], ... [2.95], [2.95], [2.95], [2.97], [2.96]]\n",
      "[[2.95], [2.97], [2.97], [2.96], [2.95], ... [2.95], [2.95], [2.95], [2.97], [2.96]]\n",
      "[1, 1, 1, 1, 1, 1, 1, 1, 1, 1, 1, 1, 1, 1, ... 1, 1, 1, 1, 1, 1, 1, 1, 1, 1, 1, 1, 1]\n",
      "1000\n"
     ]
    }
   ],
   "source": [
    "mc_arrays = events.arrays(filter_name=\"mcpart_*\")\n",
    "print(\"\")\n",
    "print(mc_arrays.type)\n",
    "print(\"\")\n",
    "\n",
    "#Select only generated muon, exclude secondaries\n",
    "cut_primary = mc_arrays[\"mcpart_geid\"]==6 #Geant3 id code\n",
    "\n",
    "px = mc_arrays[\"mcpart_px\"][cut_primary]\n",
    "py = mc_arrays[\"mcpart_py\"][cut_primary]\n",
    "pz = mc_arrays[\"mcpart_pz\"][cut_primary]\n",
    "\n",
    "particles = vector.zip({\n",
    "    \"px\": px,\n",
    "    \"py\": py,\n",
    "    \"pz\": pz,\n",
    "})\n",
    "\n",
    "#For testing\n",
    "print(particles)\n",
    "print(particles.pt)\n",
    "\n",
    "pt = np.sqrt(px**2+py**2)\n",
    "print(pt)\n",
    "print(ak.count(pt,axis=-1))\n",
    "print(ak.count(pt))"
   ]
  },
  {
   "cell_type": "markdown",
   "id": "8de8511c",
   "metadata": {},
   "source": [
    "### Reconstructed tracks"
   ]
  },
  {
   "cell_type": "code",
   "execution_count": 64,
   "id": "c303f846",
   "metadata": {},
   "outputs": [
    {
     "name": "stdout",
     "output_type": "stream",
     "text": [
      "\n",
      "1000 * {\"Trk_ntrks\": int32, \"Trk_px\": var * float32, \"Trk_py\": var * float32, \"Trk_pz\": var * float32, \"Trk_charge\": var * int32, \"Trk_chi2\": var * float32, \"Trk_ndf\": var * float32, \"Trk_proj_ecal_x\": var * float32, \"Trk_proj_ecal_y\": var * float32, \"Trk_proj_ecal_z\": var * float32, \"Trk_proj_hcal_x\": var * float32, \"Trk_proj_hcal_y\": var * float32, \"Trk_proj_hcal_z\": var * float32}\n",
      "\n",
      "[0, 1, 1, 1, 1, 1, 1, 1, 0, 1, 1, 1, 1, 1, ... 1, 0, 1, 1, 1, 1, 1, 1, 1, 1, 1, 1, 1]\n",
      "[[], [1.57], [1.92], [2.31], [1.8], [2.06, ... [1.98], [1.9], [2.34], [2.07], [13.1]]\n",
      "[[], [1.57], [1.92], [2.31], [1.8], [2.06, ... [1.98], [1.9], [2.34], [2.07], [13.1]]\n",
      "[0, 1, 1, 1, 1, 1, 1, 1, 0, 1, 1, 1, 1, 1, ... 1, 0, 1, 1, 1, 1, 1, 1, 1, 1, 1, 1, 1]\n",
      "922\n"
     ]
    }
   ],
   "source": [
    "trk_arrays = events.arrays(filter_name=\"Trk_*\")\n",
    "print(\"\")\n",
    "print(trk_arrays.type)\n",
    "print(\"\")\n",
    "\n",
    "num_trk = trk_arrays[\"Trk_ntrks\"]\n",
    "rec_px = trk_arrays[\"Trk_px\"]\n",
    "rec_py = trk_arrays[\"Trk_py\"]\n",
    "rec_pz = trk_arrays[\"Trk_pz\"]\n",
    "rec_charge = trk_arrays[\"Trk_charge\"]\n",
    "\n",
    "rec_particles = vector.zip({\n",
    "    \"px\": rec_px,\n",
    "    \"py\": rec_py,\n",
    "    \"pz\": rec_pz,\n",
    "})\n",
    "\n",
    "#For testing\n",
    "print(num_trk)\n",
    "\n",
    "print(rec_particles.pt)\n",
    "\n",
    "rec_pt = np.sqrt(rec_px**2+rec_py**2)\n",
    "print(rec_pt)\n",
    "print(ak.count(rec_pt,axis=-1))\n",
    "print(ak.count(rec_pt))"
   ]
  },
  {
   "cell_type": "markdown",
   "id": "10c785f7",
   "metadata": {},
   "source": [
    "### Make plots"
   ]
  },
  {
   "cell_type": "code",
   "execution_count": 66,
   "id": "5995f3c9",
   "metadata": {},
   "outputs": [
    {
     "name": "stdout",
     "output_type": "stream",
     "text": [
      "[{x: 922, y: 922, z: 922}]\n",
      "[{x: 922, y: 922, z: 922}]\n"
     ]
    },
    {
     "data": {
      "image/png": "[encoded data removed]",
      "text/plain": [
       "<Figure size 666x378 with 1 Axes>"
      ]
     },
     "metadata": {
      "needs_background": "light"
     },
     "output_type": "display_data"
    },
    {
     "data": {
      "image/png": "[encoded data removed]",
      "text/plain": [
       "<Figure size 666x378 with 1 Axes>"
      ]
     },
     "metadata": {
      "needs_background": "light"
     },
     "output_type": "display_data"
    },
    {
     "data": {
      "image/png": "[encoded data removed]",
      "text/plain": [
       "<Figure size 666x378 with 1 Axes>"
      ]
     },
     "metadata": {
      "needs_background": "light"
     },
     "output_type": "display_data"
    },
    {
     "data": {
      "image/png": "[encoded data removed]",
      "text/plain": [
       "<Figure size 666x378 with 1 Axes>"
      ]
     },
     "metadata": {
      "needs_background": "light"
     },
     "output_type": "display_data"
    }
   ],
   "source": [
    "#For reconstruction plots, remove events with no reconstructed tracks\n",
    "particles_wtrk = particles[num_trk>0]\n",
    "rec_particles_wtrk = rec_particles[num_trk>0]\n",
    "rec_charge_wtrk = rec_charge[num_trk>0]\n",
    "\n",
    "#For testing\n",
    "print(ak.count(particles_wtrk,axis=0))\n",
    "print(ak.count(rec_particles_wtrk,axis=0))\n",
    "\n",
    "## Plot 1 -- momentum resolution in %\n",
    "mom_res = 100.*( (rec_particles_wtrk.p-particles_wtrk.p) / particles_wtrk.p)\n",
    "\n",
    "plt.hist(mom_res,label=\"Momentum Resolution\",histtype='step',ec='blue',\n",
    "         lw=3,bins=100,range=[-100,100])\n",
    "plt.xlabel(\"Resolution [%]\",fontsize=14)\n",
    "plt.title('Single 30 GeV $\\mu^{-}$ at $\\eta = 3.0$ and $(v_{x},v_{y},v_{z}) = (0,0,0)$',fontsize=14)\n",
    "plt.legend(fontsize=14)\n",
    "\n",
    "#Figure Output\n",
    "fig = plt.gcf()\n",
    "fig.set_size_inches(18.5/2, 10.5/2)\n",
    "plt.show()\n",
    "\n",
    "## Plot 2 -- Theta resolution in mRad\n",
    "theta_res = 1000.* (rec_particles_wtrk.theta-particles_wtrk.theta)\n",
    "\n",
    "plt.hist(theta_res,label=\"Theta Resolution\",histtype='step',ec='blue',\n",
    "         lw=3,bins=100,range=[-2.5,2.5])\n",
    "plt.xlabel(\"Resolution [mRad]\",fontsize=14)\n",
    "plt.title('Single 30 GeV $\\mu^{-}$ at $\\eta = 3.0$ and $(v_{x},v_{y},v_{z}) = (0,0,0)$',fontsize=14)\n",
    "plt.legend(fontsize=14)\n",
    "\n",
    "#Figure Output\n",
    "fig = plt.gcf()\n",
    "fig.set_size_inches(18.5/2, 10.5/2)\n",
    "plt.show()\n",
    "\n",
    "## Plot 3 -- Phi resolution in mRad\n",
    "phi_res = 1000.* (rec_particles_wtrk.phi-particles_wtrk.phi)\n",
    "\n",
    "plt.hist(phi_res,label=\"Phi Resolution\",histtype='step',ec='blue',\n",
    "         lw=3,bins=100,range=[-40,40])\n",
    "plt.xlabel(\"Resolution [mRad]\",fontsize=14)\n",
    "plt.title('Single 30 GeV $\\mu^{-}$ at $\\eta = 3.0$ and $(v_{x},v_{y},v_{z}) = (0,0,0)$',fontsize=14)\n",
    "plt.legend(fontsize=14)\n",
    "\n",
    "#Figure Output\n",
    "fig = plt.gcf()\n",
    "fig.set_size_inches(18.5/2, 10.5/2)\n",
    "plt.show()\n",
    "\n",
    "## Plot 4 -- Reconstructed charge\n",
    "plt.hist(rec_charge_wtrk,label=\"Reconstructed Charge\",histtype='step',ec='blue',\n",
    "         lw=3,bins=100,range=[-2,2])\n",
    "plt.xlabel(\"Charge\",fontsize=14)\n",
    "plt.title('Single 30 GeV $\\mu^{-}$ at $\\eta = 3.0$ and $(v_{x},v_{y},v_{z}) = (0,0,0)$',fontsize=14)\n",
    "plt.legend(fontsize=14)\n",
    "\n",
    "#Figure Output\n",
    "fig = plt.gcf()\n",
    "fig.set_size_inches(18.5/2, 10.5/2)\n",
    "plt.show()"
   ]
  },
  {
   "cell_type": "code",
   "execution_count": null,
   "id": "4e9a8976",
   "metadata": {},
   "outputs": [],
   "source": []
  }
 ],
 "metadata": {
  "kernelspec": {
   "display_name": "Python 3 (ipykernel)",
   "language": "python",
   "name": "python3"
  },
  "language_info": {
   "codemirror_mode": {
    "name": "ipython",
    "version": 3
   },
   "file_extension": ".py",
   "mimetype": "text/x-python",
   "name": "python",
   "nbconvert_exporter": "python",
   "pygments_lexer": "ipython3",
   "version": "3.8.10"
  }
 },
 "nbformat": 4,
 "nbformat_minor": 5
}
